{
 "cells": [
  {
   "cell_type": "code",
   "execution_count": 2,
   "metadata": {},
   "outputs": [
    {
     "name": "stderr",
     "output_type": "stream",
     "text": [
      "1:1 - Expression expected.\n",
      "1:1 - Operator '<' cannot be applied to types 'number' and 'boolean'.\n",
      "1:2 - Expression expected.\n",
      "1:3 - Cannot find name 'html_content'.\n",
      "2:3 - Cannot find name 'DOCTYPE'.\n",
      "2:11 - ';' expected.\n",
      "2:11 - Cannot find name 'html'.\n",
      "3:2 - Cannot find name 'React'.\n",
      "3:2 - JSX element 'html' has no corresponding closing tag.\n",
      "4:2 - Cannot find name 'React'.\n",
      "4:2 - JSX element 'head' has no corresponding closing tag.\n",
      "5:2 - Cannot find name 'React'.\n",
      "6:2 - Cannot find name 'React'.\n",
      "6:9 - Cannot find name 'React'.\n",
      "8:1 - Expected corresponding JSX closing tag for 'meta'.\n",
      "8:8 - '</' expected.\n"
     ]
    }
   ],
   "source": [
    "%%html_content\n",
    "<!DOCTYPE html>\n",
    "<html>\n",
    "<head>\n",
    "<meta charset=\"utf-8\">\n",
    "<body> <h1>TEST</h1></body>\n",
    "\n",
    "</html>"
   ]
  }
 ],
 "metadata": {
  "kernelspec": {
   "display_name": "JavaScript",
   "language": "javascript",
   "name": "jslab"
  },
  "language_info": {
   "file_extension": ".js",
   "mimetype": "text/javascript",
   "name": "javascript",
   "version": ""
  },
  "orig_nbformat": 4
 },
 "nbformat": 4,
 "nbformat_minor": 2
}
